{
 "cells": [
  {
   "cell_type": "markdown",
   "metadata": {},
   "source": [
    "## Part 2: FNC-1 LSTM "
   ]
  },
  {
   "cell_type": "markdown",
   "metadata": {},
   "source": [
    "Github dataset: https://github.com/FakeNewsChallenge/fnc-1"
   ]
  },
  {
   "cell_type": "markdown",
   "metadata": {},
   "source": [
    "Learning resources: <br>\n",
    "1. Understanding LSTM Networks http://colah.github.io/posts/2015-08-Understanding-LSTMs/ <br>\n",
    "2. The Unreasonable Effectiveness of Recurrent Neural Networks http://karpathy.github.io/2015/05/21/rnn-effectiveness/"
   ]
  },
  {
   "cell_type": "markdown",
   "metadata": {},
   "source": [
    "Reference projects: <br>\n",
    "1. Glove+LSTM 95.08% Acc https://www.kaggle.com/code/abhinavkrjha/glove-lstm-95-08-acc <br>\n",
    "2. Stance-based model https://www.kaggle.com/code/sadoukhamzatarik/stance-based-model <br>\n",
    "3. Preprocessing for DL https://towardsdatascience.com/nlp-learning-series-part-1-text-preprocessing-methods-for-deep-learning-20085601684b <br>\n",
    "4. Text Classification Algorithms: A Survey https://medium.com/text-classification-algorithms/text-classification-algorithms-a-survey-a215b7ab7e2d"
   ]
  },
  {
   "cell_type": "code",
   "execution_count": 1,
   "metadata": {},
   "outputs": [],
   "source": [
    "import pandas as pd\n",
    "import numpy as np\n",
    "import os\n",
    "import urllib.request\n",
    "\n",
    "import random\n",
    "import nltk\n",
    "#nltk.download('punkt')\n",
    "from nltk.tokenize import sent_tokenize\n",
    "from nltk.corpus import stopwords\n",
    "\n",
    "from sklearn.model_selection import train_test_split\n",
    "\n",
    "from keras.preprocessing.sequence import pad_sequences\n",
    "from keras.preprocessing.text import Tokenizer\n",
    "from keras.preprocessing.text import text_to_word_sequence\n",
    "from keras.utils import to_categorical,plot_model\n",
    "\n",
    "from keras.models import Input,Model,Sequential\n",
    "from keras.layers import LSTM,Embedding,Dropout,Activation,Reshape,Dense,GRU,Add,Flatten,concatenate,Bidirectional\n",
    "\n",
    "from keras.preprocessing.text import one_hot\n",
    "from keras.preprocessing.sequence import pad_sequences\n",
    "\n",
    "from keras.utils import to_categorical,plot_model\n",
    "import matplotlib.pyplot as plt\n",
    "from keras.callbacks import ModelCheckpoint"
   ]
  },
  {
   "cell_type": "code",
   "execution_count": 2,
   "metadata": {},
   "outputs": [],
   "source": [
    "#pd.set_option('max_colwidth', None)\n",
    "stop_words = set(stopwords.words('english'))"
   ]
  },
  {
   "cell_type": "code",
   "execution_count": 3,
   "metadata": {},
   "outputs": [],
   "source": [
    "def LoadDatasets():\n",
    "    url1 = 'https://github.com/ivabu/fnc-1/blob/master/train_bodies.csv?raw=true'\n",
    "    train_bodies = pd.read_csv(url1)\n",
    "\n",
    "    url2 = 'https://github.com/ivabu/fnc-1/blob/master/train_stances.csv?raw=true'\n",
    "    train_stances = pd.read_csv(url2)\n",
    "    \n",
    "    #merge the training datasets for bodies and headlines\n",
    "    train_stances_bodies = pd.merge(left=train_bodies, right=train_stances, left_on='Body ID', right_on='Body ID')\n",
    "    \n",
    "    url3 = 'https://github.com/ivabu/fnc-1/blob/master/test_bodies.csv?raw=true'\n",
    "    test_bodies = pd.read_csv(url3)\n",
    "\n",
    "    url4 = 'https://github.com/ivabu/fnc-1/blob/master/test_stances_unlabeled.csv?raw=true'\n",
    "    test_stances = pd.read_csv(url4)\n",
    "    \n",
    "    #merge the testing datasets for bodies and headlines\n",
    "    test_stances_bodies = pd.merge(left=test_bodies, right=test_stances, left_on='Body ID', right_on='Body ID')\n",
    "    \n",
    "    return train_bodies, train_stances, train_stances_bodies, test_bodies, test_stances, test_stances_bodies\n",
    "\n",
    "train_bodies,train_stances,train_stances_bodies,test_bodies,test_stances,test_stances_bodies = LoadDatasets()"
   ]
  },
  {
   "cell_type": "code",
   "execution_count": 4,
   "metadata": {},
   "outputs": [],
   "source": [
    "#observation_headlines = train_stances.loc[(train_stances[\"Body ID\"]== 1923 )& (train_stances[\"Stance\"] != 'unrelated')]\n",
    "#obervation_headlines.head(5).style.hide_index()"
   ]
  },
  {
   "cell_type": "code",
   "execution_count": 5,
   "metadata": {},
   "outputs": [],
   "source": [
    "#observation_body_headline = train_stances_bodies.loc[(train_stances_bodies[\"Body ID\"]== 1923 )& (train_stances_bodies[\"Stance\"] != 'unrelated')]\n",
    "#observation_body_headline.head(2).style.hide_index()"
   ]
  },
  {
   "cell_type": "markdown",
   "metadata": {},
   "source": [
    "### Subset while testing code"
   ]
  },
  {
   "cell_type": "code",
   "execution_count": 6,
   "metadata": {},
   "outputs": [],
   "source": [
    "def SubsetDataset(data): \n",
    "    data = data.sample(frac=0.05, random_state = 1)\n",
    "    return data"
   ]
  },
  {
   "cell_type": "code",
   "execution_count": 7,
   "metadata": {},
   "outputs": [],
   "source": [
    "train_bodies = SubsetDataset(train_bodies)\n",
    "train_stances = SubsetDataset(train_stances)\n",
    "train_stances_bodies = SubsetDataset(train_stances_bodies)\n",
    "test_bodies = SubsetDataset(test_bodies)\n",
    "test_stances = SubsetDataset(test_stances)\n",
    "test_stances_bodies = SubsetDataset(test_stances_bodies)"
   ]
  },
  {
   "cell_type": "code",
   "execution_count": 8,
   "metadata": {},
   "outputs": [
    {
     "data": {
      "text/plain": [
       "(1271, 3)"
      ]
     },
     "execution_count": 8,
     "metadata": {},
     "output_type": "execute_result"
    }
   ],
   "source": [
    "test_stances_bodies.shape"
   ]
  },
  {
   "cell_type": "markdown",
   "metadata": {},
   "source": [
    "### GloVe Embedding Matrix of Headline and Body"
   ]
  },
  {
   "cell_type": "markdown",
   "metadata": {},
   "source": [
    "Hands-On Guide To Word Embeddings Using GloVe https://analyticsindiamag.com/hands-on-guide-to-word-embeddings-using-glove/\n",
    "\n",
    "How to Use Word Embedding Layers for Deep Learning with Keras https://machinelearningmastery.com/use-word-embedding-layers-deep-learning-keras/"
   ]
  },
  {
   "cell_type": "code",
   "execution_count": 9,
   "metadata": {},
   "outputs": [],
   "source": [
    "#urllib.request.urlretrieve('https://nlp.stanford.edu/data/glove.6B.zip','glove.6B.zip')"
   ]
  },
  {
   "cell_type": "code",
   "execution_count": 10,
   "metadata": {},
   "outputs": [],
   "source": [
    "#!unzip glove*.zip"
   ]
  },
  {
   "cell_type": "code",
   "execution_count": 11,
   "metadata": {},
   "outputs": [],
   "source": [
    "#!ls\n",
    "#!pwd"
   ]
  },
  {
   "cell_type": "markdown",
   "metadata": {},
   "source": [
    "### Preprocessing"
   ]
  },
  {
   "cell_type": "markdown",
   "metadata": {},
   "source": [
    "Text processing Keras https://faroit.com/keras-docs/1.2.2/preprocessing/text/"
   ]
  },
  {
   "cell_type": "code",
   "execution_count": 12,
   "metadata": {},
   "outputs": [],
   "source": [
    "def PreprocessText(data, MAX_NB_WORDS=75000): \n",
    "    t_headline = Tokenizer(num_words=MAX_NB_WORDS,split=' ')\n",
    "    t_headline.fit_on_texts(data['Headline'])\n",
    "    \n",
    "    headline_sequences = t_headline.texts_to_sequences(data['Headline'])\n",
    "    headline_word_index = t_headline.word_index\n",
    "    vocab_size_headline = len(t_headline.word_index)+1\n",
    "    \n",
    "    t_body = Tokenizer(num_words=MAX_NB_WORDS)\n",
    "    t_body.fit_on_texts(data['articleBody'])\n",
    "        #Updates internal vocabulary based on a list of texts. \n",
    "        #This method creates the vocabulary index based on word frequency.\n",
    "        #https://stackoverflow.com/questions/51956000/what-does-keras-tokenizer-method-exactly-do\n",
    "    body_sequences = t_body.texts_to_sequences(data['articleBody'])\n",
    "        #texts_to_sequences Transforms each text in texts to a sequence of integers. \n",
    "        #takes each word in the text and replaces it with its corresponding integer \n",
    "        #value from the word_index dictionary\n",
    "    body_word_index = t_body.word_index\n",
    "    vocab_size_body = len(t_body.word_index)+1\n",
    "\n",
    "    padding_headline = pad_sequences(headline_sequences, maxlen=16, padding='post')\n",
    "    padding_body = pad_sequences(body_sequences, maxlen=48, padding='post')\n",
    "    \n",
    "    return padding_headline, padding_body, t_headline, t_body, vocab_size_headline, vocab_size_body\n",
    "\n",
    "padding_headline, padding_body, t_headline, t_body, vocab_size_headline, vocab_size_body = PreprocessText(train_stances_bodies,MAX_NB_WORDS=75000) \n",
    "#todo move into a class \n",
    "\n",
    "#'''\n",
    "def getEmbeddingsIndex():\n",
    "    embedding_index = {}\n",
    "    f = open('./glove.6B.100d.txt')\n",
    "    for line in f:\n",
    "        values = line.split()\n",
    "        word = values[0]\n",
    "        try:\n",
    "            coefs = np.asarray(values[1:], dtype='float32')\n",
    "        except:\n",
    "            pass\n",
    "        embedding_index[word] = coefs\n",
    "    f.close()\n",
    "    #print('Total %s word vectors.' % len(embeddings_index))\n",
    "    return embedding_index\n",
    "#'''\n",
    "    \n",
    "def createEmbeddingMatrix(vocab_size, tokenized_text, embedding_index, EMBEDDING_DIM = 100):\n",
    "    embedding_matrix = np.zeros((vocab_size, EMBEDDING_DIM))\n",
    "    \n",
    "    for word, i in tokenized_text.word_index.items():\n",
    "        embedding_vector = embedding_index.get(word)\n",
    "        if embedding_vector is not None:\n",
    "            embedding_matrix[i] = embedding_vector\n",
    "    #dim = len(embedding_matrix[0])\n",
    "    return embedding_matrix\n"
   ]
  },
  {
   "cell_type": "code",
   "execution_count": 14,
   "metadata": {
    "scrolled": true
   },
   "outputs": [],
   "source": [
    "def splitTrainingTesting(headline, body, stance):\n",
    "    \n",
    "    stance = stance['Stance']\n",
    "    #one hot encoding\n",
    "    stance = np.asarray(pd.get_dummies(stance))#.astype('float32')\n",
    "\n",
    "    #train and test for body and headline\n",
    "    X_train_headline, X_test_headline, label_train, label_test = train_test_split(headline, stance, train_size=0.8)\n",
    "    X_train_body, X_test_body, label_train, label_test = train_test_split(body, stance, test_size=0.2)\n",
    "\n",
    "    return X_train_headline, X_test_headline, X_train_body, X_test_body, label_train, label_test\n",
    "\n",
    "X_train_headline, X_test_headline, X_train_body, X_test_body, label_train, label_test = splitTrainingTesting(padding_headline,padding_body,train_stances_bodies)"
   ]
  },
  {
   "cell_type": "code",
   "execution_count": 15,
   "metadata": {},
   "outputs": [
    {
     "data": {
      "text/plain": [
       "array([[0, 0, 0, 1],\n",
       "       [1, 0, 0, 0],\n",
       "       [0, 0, 0, 1],\n",
       "       ...,\n",
       "       [0, 0, 0, 1],\n",
       "       [0, 0, 0, 1],\n",
       "       [0, 0, 0, 1]], dtype=uint8)"
      ]
     },
     "execution_count": 15,
     "metadata": {},
     "output_type": "execute_result"
    }
   ],
   "source": [
    "stance = train_stances_bodies['Stance']\n",
    "stance = pd.get_dummies(stance)\n",
    "stance.values"
   ]
  },
  {
   "cell_type": "markdown",
   "metadata": {},
   "source": [
    "### LSTM Model Build"
   ]
  },
  {
   "cell_type": "code",
   "execution_count": 16,
   "metadata": {},
   "outputs": [],
   "source": [
    "def BuildModelLSTM(): \n",
    "\n",
    "    padding_headline, padding_body, t_headline, t_body, vocab_size_headline, vocab_size_body = PreprocessText(train_stances_bodies,MAX_NB_WORDS=75000)\n",
    "    embedding_index = getEmbeddingsIndex()\n",
    "    embedding_matrix_headline = createEmbeddingMatrix(vocab_size_headline,t_headline, embedding_index, 100)\n",
    "    embedding_matrix_body = createEmbeddingMatrix(vocab_size_body,t_body, embedding_index, 100)\n",
    "\n",
    "    #Input & Embedding Layer\n",
    "    headline_input = Input(shape=16,name='headline_input')\n",
    "    headline_embedding = Embedding(input_dim = vocab_size_headline,output_dim = 100,\n",
    "                                     weights=[embedding_matrix_headline],\n",
    "                                     input_length = 16,trainable=True)(headline_input) \n",
    "    \n",
    "    body_input = Input(shape=48,name='body_input')\n",
    "    body_embedding = Embedding(input_dim = vocab_size_body,output_dim = 100,\n",
    "                                     weights=[embedding_matrix_body],\n",
    "                                     input_length = 48,trainable=True)(body_input)\n",
    "    #Addition\n",
    "    addition_layer = concatenate([headline_embedding,body_embedding],axis=1)\n",
    "    \n",
    "    #LSTM\n",
    "    lstm = LSTM(units=64,)(addition_layer)\n",
    "    drop = Dropout(0.25)(lstm)\n",
    "    output = Dense(4,activation='sigmoid')(drop)\n",
    "    model = Model(inputs=[headline_input,body_input],\n",
    "                  outputs=output)\n",
    "    model.compile(optimizer = 'adam',\n",
    "                  loss ='categorical_crossentropy',\n",
    "                  metrics = ['accuracy'])\n",
    "    \n",
    "    return model\n",
    "\n",
    "lstm = BuildModelLSTM()"
   ]
  },
  {
   "cell_type": "code",
   "execution_count": 17,
   "metadata": {},
   "outputs": [
    {
     "name": "stdout",
     "output_type": "stream",
     "text": [
      "Model: \"functional_1\"\n",
      "__________________________________________________________________________________________________\n",
      "Layer (type)                    Output Shape         Param #     Connected to                     \n",
      "==================================================================================================\n",
      "headline_input (InputLayer)     [(None, 16)]         0                                            \n",
      "__________________________________________________________________________________________________\n",
      "body_input (InputLayer)         [(None, 48)]         0                                            \n",
      "__________________________________________________________________________________________________\n",
      "embedding (Embedding)           (None, 16, 100)      307800      headline_input[0][0]             \n",
      "__________________________________________________________________________________________________\n",
      "embedding_1 (Embedding)         (None, 48, 100)      2149300     body_input[0][0]                 \n",
      "__________________________________________________________________________________________________\n",
      "concatenate (Concatenate)       (None, 64, 100)      0           embedding[0][0]                  \n",
      "                                                                 embedding_1[0][0]                \n",
      "__________________________________________________________________________________________________\n",
      "lstm (LSTM)                     (None, 64)           42240       concatenate[0][0]                \n",
      "__________________________________________________________________________________________________\n",
      "dropout (Dropout)               (None, 64)           0           lstm[0][0]                       \n",
      "__________________________________________________________________________________________________\n",
      "dense (Dense)                   (None, 4)            260         dropout[0][0]                    \n",
      "==================================================================================================\n",
      "Total params: 2,499,600\n",
      "Trainable params: 2,499,600\n",
      "Non-trainable params: 0\n",
      "__________________________________________________________________________________________________\n"
     ]
    }
   ],
   "source": [
    "lstm.summary()"
   ]
  },
  {
   "cell_type": "code",
   "execution_count": 18,
   "metadata": {},
   "outputs": [
    {
     "data": {
      "image/png": "[encoded data removed]",
      "text/plain": [
       "<IPython.core.display.Image object>"
      ]
     },
     "execution_count": 18,
     "metadata": {},
     "output_type": "execute_result"
    }
   ],
   "source": [
    "plot_model(lstm, to_file='model_glove_lstm.png', show_shapes=True, show_layer_names=True)"
   ]
  },
  {
   "cell_type": "markdown",
   "metadata": {},
   "source": [
    "### LSTM Model Train"
   ]
  },
  {
   "cell_type": "code",
   "execution_count": 19,
   "metadata": {},
   "outputs": [],
   "source": [
    "# MODELS_DIR = os.path.join(\"/home/abhinav/fake_news_challenge/model/glove_lstm\")\n",
    "filepath = os.path.join(os.getcwd(),\"{epoch:02d}-{val_accuracy:.2f}.hdf5\")\n",
    "checkpoint = ModelCheckpoint(filepath, monitor='val_accuracy', verbose=1, save_best_only=True, mode='max')"
   ]
  },
  {
   "cell_type": "code",
   "execution_count": 20,
   "metadata": {},
   "outputs": [
    {
     "data": {
      "text/plain": [
       "(1999, 16)"
      ]
     },
     "execution_count": 20,
     "metadata": {},
     "output_type": "execute_result"
    }
   ],
   "source": [
    "X_train_headline.shape"
   ]
  },
  {
   "cell_type": "code",
   "execution_count": 21,
   "metadata": {},
   "outputs": [
    {
     "name": "stdout",
     "output_type": "stream",
     "text": [
      "Epoch 1/10\n",
      "63/63 [==============================] - ETA: 0s - loss: 0.8962 - accuracy: 0.7249\n",
      "Epoch 00001: val_accuracy improved from -inf to 0.75800, saving model to /Users/ivabubalo/Documents/MSc in AI/Thesis/Code/01-0.76.hdf5\n",
      "63/63 [==============================] - 7s 106ms/step - loss: 0.8962 - accuracy: 0.7249 - val_loss: 0.7590 - val_accuracy: 0.7580\n",
      "Epoch 2/10\n",
      "63/63 [==============================] - ETA: 0s - loss: 0.7947 - accuracy: 0.7384\n",
      "Epoch 00002: val_accuracy did not improve from 0.75800\n",
      "63/63 [==============================] - 6s 89ms/step - loss: 0.7947 - accuracy: 0.7384 - val_loss: 0.7494 - val_accuracy: 0.7580\n",
      "Epoch 3/10\n",
      "63/63 [==============================] - ETA: 0s - loss: 0.7686 - accuracy: 0.7384\n",
      "Epoch 00003: val_accuracy did not improve from 0.75800\n",
      "63/63 [==============================] - 6s 100ms/step - loss: 0.7686 - accuracy: 0.7384 - val_loss: 0.7445 - val_accuracy: 0.7580\n",
      "Epoch 4/10\n",
      "63/63 [==============================] - ETA: 0s - loss: 0.7313 - accuracy: 0.7384\n",
      "Epoch 00004: val_accuracy did not improve from 0.75800\n",
      "63/63 [==============================] - 5s 77ms/step - loss: 0.7313 - accuracy: 0.7384 - val_loss: 0.7296 - val_accuracy: 0.7580\n",
      "Epoch 5/10\n",
      "63/63 [==============================] - ETA: 0s - loss: 0.6740 - accuracy: 0.7424\n",
      "Epoch 00005: val_accuracy did not improve from 0.75800\n",
      "63/63 [==============================] - 5s 85ms/step - loss: 0.6740 - accuracy: 0.7424 - val_loss: 0.7828 - val_accuracy: 0.7560\n",
      "Epoch 6/10\n",
      "63/63 [==============================] - ETA: 0s - loss: 0.6046 - accuracy: 0.7584\n",
      "Epoch 00006: val_accuracy did not improve from 0.75800\n",
      "63/63 [==============================] - 4s 68ms/step - loss: 0.6046 - accuracy: 0.7584 - val_loss: 0.7164 - val_accuracy: 0.7560\n",
      "Epoch 7/10\n",
      "63/63 [==============================] - ETA: 0s - loss: 0.5078 - accuracy: 0.7839\n",
      "Epoch 00007: val_accuracy did not improve from 0.75800\n",
      "63/63 [==============================] - 6s 92ms/step - loss: 0.5078 - accuracy: 0.7839 - val_loss: 0.7456 - val_accuracy: 0.7460\n",
      "Epoch 8/10\n",
      "63/63 [==============================] - ETA: 0s - loss: 0.4527 - accuracy: 0.8009\n",
      "Epoch 00008: val_accuracy did not improve from 0.75800\n",
      "63/63 [==============================] - 5s 83ms/step - loss: 0.4527 - accuracy: 0.8009 - val_loss: 0.7846 - val_accuracy: 0.7180\n",
      "Epoch 9/10\n",
      "63/63 [==============================] - ETA: 0s - loss: 0.4077 - accuracy: 0.8254\n",
      "Epoch 00009: val_accuracy did not improve from 0.75800\n",
      "63/63 [==============================] - 5s 81ms/step - loss: 0.4077 - accuracy: 0.8254 - val_loss: 0.8359 - val_accuracy: 0.7220\n",
      "Epoch 10/10\n",
      "63/63 [==============================] - ETA: 0s - loss: 0.3759 - accuracy: 0.8469\n",
      "Epoch 00010: val_accuracy did not improve from 0.75800\n",
      "63/63 [==============================] - 5s 83ms/step - loss: 0.3759 - accuracy: 0.8469 - val_loss: 0.8829 - val_accuracy: 0.7300\n"
     ]
    },
    {
     "data": {
      "text/plain": [
       "<tensorflow.python.keras.callbacks.History at 0x7f7e7ecf9670>"
      ]
     },
     "execution_count": 21,
     "metadata": {},
     "output_type": "execute_result"
    }
   ],
   "source": [
    "lstm.fit([X_train_headline,X_train_body],label_train,epochs=10,shuffle=True,verbose=1,\n",
    "                          validation_data=([X_test_headline,X_test_body],label_test),callbacks=[checkpoint])"
   ]
  },
  {
   "cell_type": "code",
   "execution_count": null,
   "metadata": {},
   "outputs": [],
   "source": [
    "# Generate predicted output \n",
    "#yhat = lstm.predict([label_test, X_test_headline], verbose=1)"
   ]
  }
 ],
 "metadata": {
  "kernelspec": {
   "display_name": "Python 3",
   "language": "python",
   "name": "python3"
  },
  "language_info": {
   "codemirror_mode": {
    "name": "ipython",
    "version": 3
   },
   "file_extension": ".py",
   "mimetype": "text/x-python",
   "name": "python",
   "nbconvert_exporter": "python",
   "pygments_lexer": "ipython3",
   "version": "3.8.0"
  }
 },
 "nbformat": 4,
 "nbformat_minor": 2
}
