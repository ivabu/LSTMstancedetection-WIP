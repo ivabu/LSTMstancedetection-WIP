{
 "cells": [
  {
   "cell_type": "markdown",
   "metadata": {},
   "source": [
    "# Part 1. Text summarizing"
   ]
  },
  {
   "cell_type": "markdown",
   "metadata": {},
   "source": [
    "An Introduction to Text Summarization using the TextRank Algorithm https://www.analyticsvidhya.com/blog/2018/11/introduction-text-summarization-textrank-python/ "
   ]
  },
  {
   "cell_type": "markdown",
   "metadata": {},
   "source": [
    "### Import Libraries"
   ]
  },
  {
   "cell_type": "code",
   "execution_count": 93,
   "metadata": {},
   "outputs": [],
   "source": [
    "import pandas as pd\n",
    "import numpy as np\n",
    "import os\n",
    "import urllib.request\n",
    "\n",
    "import nltk\n",
    "from nltk.tokenize import sent_tokenize, word_tokenize\n",
    "\n",
    "#nltk.download('stopwords')\n",
    "from nltk.corpus import stopwords\n",
    "stop_words = stopwords.words('english')\n",
    "\n",
    "from sklearn.metrics.pairwise import cosine_similarity\n",
    "\n",
    "import networkx as nx"
   ]
  },
  {
   "cell_type": "code",
   "execution_count": 95,
   "metadata": {},
   "outputs": [],
   "source": [
    "import warnings\n",
    "\n",
    "warnings.filterwarnings(\"ignore\", category=DeprecationWarning)"
   ]
  },
  {
   "cell_type": "code",
   "execution_count": 8,
   "metadata": {},
   "outputs": [],
   "source": [
    "pd.set_option('display.max_columns', None)\n",
    "pd.set_option('display.width', None)\n",
    "pd.set_option('display.max_colwidth', None)"
   ]
  },
  {
   "cell_type": "markdown",
   "metadata": {},
   "source": [
    "## Read Data"
   ]
  },
  {
   "cell_type": "markdown",
   "metadata": {},
   "source": [
    "### Training dataset"
   ]
  },
  {
   "cell_type": "markdown",
   "metadata": {},
   "source": [
    "Github dataset: https://github.com/FakeNewsChallenge/fnc-1"
   ]
  },
  {
   "cell_type": "code",
   "execution_count": 171,
   "metadata": {},
   "outputs": [],
   "source": [
    "def LoadDatasets():\n",
    "    url1 = 'https://github.com/ivabu/fnc-1/blob/master/train_bodies.csv?raw=true'\n",
    "    train_bodies = pd.read_csv(url1)\n",
    "\n",
    "    url2 = 'https://github.com/ivabu/fnc-1/blob/master/train_stances.csv?raw=true'\n",
    "    train_stances = pd.read_csv(url2)\n",
    "    \n",
    "    #merge the training datasets for bodies and headlines\n",
    "    train_stances_bodies = pd.merge(left=train_bodies, right=train_stances, left_on='Body ID', right_on='Body ID')\n",
    "    \n",
    "    url3 = 'https://github.com/ivabu/fnc-1/blob/master/test_bodies.csv?raw=true'\n",
    "    test_bodies = pd.read_csv(url3)\n",
    "\n",
    "    url4 = 'https://github.com/ivabu/fnc-1/blob/master/test_stances_unlabeled.csv?raw=true'\n",
    "    test_stances = pd.read_csv(url4)\n",
    "    \n",
    "    #merge the testing datasets for bodies and headlines\n",
    "    test_stances_bodies = pd.merge(left=test_bodies, right=test_stances, left_on='Body ID', right_on='Body ID')\n",
    "\n",
    "    \n",
    "    return train_bodies, train_stances, train_stances_bodies, test_bodies, test_stances, test_stances_bodies\n",
    "\n",
    "train_bodies,train_stances,train_stances_bodies,test_bodies,test_stances,test_stances_bodies = LoadDatasets()"
   ]
  },
  {
   "cell_type": "code",
   "execution_count": 172,
   "metadata": {},
   "outputs": [],
   "source": [
    "def DescribeDatasets(full_dataset, stances, bodies):\n",
    "    print(\"Count of stances_bodies: \\n\\n\" + str(full_dataset.count().to_string()))\n",
    "    print(\"\\nCount of stances: \\n\\n\" + str(stances.count().to_string()))\n",
    "    print(\"\\nCount of bodies: \\n\\n\" + str(bodies.count().to_string()))\n",
    "    print(\"\\nCount of unique stances: \\n\\n\" + str(stances.nunique().to_string()))\n",
    "    if 'Stance' in stances.columns:\n",
    "        proportions = stances[\"Stance\"].value_counts(normalize=True).mul(100).round(1).astype(str) + '%'\n",
    "        print(\"\\nStance proportions: \\n\\n\" + str(proportions))"
   ]
  },
  {
   "cell_type": "code",
   "execution_count": 173,
   "metadata": {},
   "outputs": [
    {
     "name": "stdout",
     "output_type": "stream",
     "text": [
      "\n",
      "Testing Dataset Summary: \n",
      "\n",
      "Count of stances_bodies: \n",
      "\n",
      "Body ID        49972\n",
      "articleBody    49972\n",
      "Headline       49972\n",
      "Stance         49972\n",
      "\n",
      "Count of stances: \n",
      "\n",
      "Headline    49972\n",
      "Body ID     49972\n",
      "Stance      49972\n",
      "\n",
      "Count of bodies: \n",
      "\n",
      "Body ID        1683\n",
      "articleBody    1683\n",
      "\n",
      "Count of unique stances: \n",
      "\n",
      "Headline    1648\n",
      "Body ID     1683\n",
      "Stance         4\n",
      "\n",
      "Stance proportions: \n",
      "\n",
      "unrelated    73.1%\n",
      "discuss      17.8%\n",
      "agree         7.4%\n",
      "disagree      1.7%\n",
      "Name: Stance, dtype: object\n",
      "\n",
      "Testing Dataset Summary: \n",
      "\n",
      "Count of stances_bodies: \n",
      "\n",
      "Body ID        25413\n",
      "articleBody    25413\n",
      "Headline       25413\n",
      "\n",
      "Count of stances: \n",
      "\n",
      "Headline    25413\n",
      "Body ID     25413\n",
      "\n",
      "Count of bodies: \n",
      "\n",
      "Body ID        904\n",
      "articleBody    904\n",
      "\n",
      "Count of unique stances: \n",
      "\n",
      "Headline    894\n",
      "Body ID     904\n"
     ]
    }
   ],
   "source": [
    "print(\"\\nTesting Dataset Summary: \\n\")    \n",
    "DescribeDatasets(train_stances_bodies, train_stances, train_bodies)\n",
    "print(\"\\nTesting Dataset Summary: \\n\")\n",
    "DescribeDatasets(test_stances_bodies, test_stances, test_bodies)"
   ]
  },
  {
   "cell_type": "code",
   "execution_count": 174,
   "metadata": {},
   "outputs": [
    {
     "data": {
      "text/html": [
       "<div>\n",
       "<style scoped>\n",
       "    .dataframe tbody tr th:only-of-type {\n",
       "        vertical-align: middle;\n",
       "    }\n",
       "\n",
       "    .dataframe tbody tr th {\n",
       "        vertical-align: top;\n",
       "    }\n",
       "\n",
       "    .dataframe thead th {\n",
       "        text-align: right;\n",
       "    }\n",
       "</style>\n",
       "<table border=\"1\" class=\"dataframe\">\n",
       "  <thead>\n",
       "    <tr style=\"text-align: right;\">\n",
       "      <th></th>\n",
       "      <th>index</th>\n",
       "      <th>Headline</th>\n",
       "      <th>Body ID</th>\n",
       "      <th>Stance</th>\n",
       "    </tr>\n",
       "  </thead>\n",
       "  <tbody>\n",
       "    <tr>\n",
       "      <th>0</th>\n",
       "      <td>4</td>\n",
       "      <td>Spider burrowed through tourist's stomach and up into his chest</td>\n",
       "      <td>1923</td>\n",
       "      <td>disagree</td>\n",
       "    </tr>\n",
       "    <tr>\n",
       "      <th>1</th>\n",
       "      <td>2287</td>\n",
       "      <td>No, a spider (probably) didn't crawl through a man's body for several days</td>\n",
       "      <td>1923</td>\n",
       "      <td>agree</td>\n",
       "    </tr>\n",
       "    <tr>\n",
       "      <th>2</th>\n",
       "      <td>3817</td>\n",
       "      <td>Tropical spider burrowed under man's skin through appendix scar and lived there for THREE DAYS</td>\n",
       "      <td>1923</td>\n",
       "      <td>disagree</td>\n",
       "    </tr>\n",
       "    <tr>\n",
       "      <th>3</th>\n",
       "      <td>5685</td>\n",
       "      <td>Dylan Thomas Finds Tropical Spider Burrowed Under Skin</td>\n",
       "      <td>1923</td>\n",
       "      <td>disagree</td>\n",
       "    </tr>\n",
       "    <tr>\n",
       "      <th>4</th>\n",
       "      <td>6235</td>\n",
       "      <td>Bali Awry</td>\n",
       "      <td>1923</td>\n",
       "      <td>discuss</td>\n",
       "    </tr>\n",
       "    <tr>\n",
       "      <th>5</th>\n",
       "      <td>7799</td>\n",
       "      <td>Spider burrowed into appendix scar, crawled through WA man's body</td>\n",
       "      <td>1923</td>\n",
       "      <td>disagree</td>\n",
       "    </tr>\n",
       "    <tr>\n",
       "      <th>6</th>\n",
       "      <td>11381</td>\n",
       "      <td>Expert casts doubt on Bunbury man Dylan Thomas’s burrowing stomach-spider story</td>\n",
       "      <td>1923</td>\n",
       "      <td>agree</td>\n",
       "    </tr>\n",
       "    <tr>\n",
       "      <th>7</th>\n",
       "      <td>12660</td>\n",
       "      <td>Web of confusion as scientists cast doubt on man's claims that a spider burrowed into his stomach through his SCAR</td>\n",
       "      <td>1923</td>\n",
       "      <td>agree</td>\n",
       "    </tr>\n",
       "    <tr>\n",
       "      <th>8</th>\n",
       "      <td>12889</td>\n",
       "      <td>Tropical spider burrows under man's skin through scar</td>\n",
       "      <td>1923</td>\n",
       "      <td>disagree</td>\n",
       "    </tr>\n",
       "    <tr>\n",
       "      <th>9</th>\n",
       "      <td>16508</td>\n",
       "      <td>The Guy Who Said a Spider Burrowed Under His Skin? Experts Say…</td>\n",
       "      <td>1923</td>\n",
       "      <td>discuss</td>\n",
       "    </tr>\n",
       "    <tr>\n",
       "      <th>10</th>\n",
       "      <td>18097</td>\n",
       "      <td>Are Rumors of the Apple Watch in Feb True?</td>\n",
       "      <td>722</td>\n",
       "      <td>discuss</td>\n",
       "    </tr>\n",
       "    <tr>\n",
       "      <th>11</th>\n",
       "      <td>18590</td>\n",
       "      <td>Strange mark turns out to be tropical spider burrowing under vacationer's skin</td>\n",
       "      <td>1923</td>\n",
       "      <td>disagree</td>\n",
       "    </tr>\n",
       "    <tr>\n",
       "      <th>12</th>\n",
       "      <td>20554</td>\n",
       "      <td>Tourist wakes to find strange red trail on his stomach - and discovers a spider has burrowed through his appendix scar and crawled UNDER his skin while on holiday in Bali</td>\n",
       "      <td>1923</td>\n",
       "      <td>disagree</td>\n",
       "    </tr>\n",
       "    <tr>\n",
       "      <th>13</th>\n",
       "      <td>22029</td>\n",
       "      <td>Tropical spider 'burrowed under man's skin through scar' - video report</td>\n",
       "      <td>1923</td>\n",
       "      <td>discuss</td>\n",
       "    </tr>\n",
       "    <tr>\n",
       "      <th>14</th>\n",
       "      <td>22649</td>\n",
       "      <td>This Is a Truly Horrifying Story About a Spider</td>\n",
       "      <td>1923</td>\n",
       "      <td>disagree</td>\n",
       "    </tr>\n",
       "    <tr>\n",
       "      <th>15</th>\n",
       "      <td>24352</td>\n",
       "      <td>Tropical spider burrowed under Bali tourist's skin</td>\n",
       "      <td>1923</td>\n",
       "      <td>disagree</td>\n",
       "    </tr>\n",
       "    <tr>\n",
       "      <th>16</th>\n",
       "      <td>24622</td>\n",
       "      <td>'Spiderman' squished: Perth experts debunk spider burrowing claims</td>\n",
       "      <td>1923</td>\n",
       "      <td>agree</td>\n",
       "    </tr>\n",
       "    <tr>\n",
       "      <th>17</th>\n",
       "      <td>25026</td>\n",
       "      <td>New Rumour Suggests Apple Watch to Launch in February</td>\n",
       "      <td>722</td>\n",
       "      <td>discuss</td>\n",
       "    </tr>\n",
       "    <tr>\n",
       "      <th>18</th>\n",
       "      <td>28712</td>\n",
       "      <td>Bali spider burrows under Aussie’s chest</td>\n",
       "      <td>1923</td>\n",
       "      <td>disagree</td>\n",
       "    </tr>\n",
       "    <tr>\n",
       "      <th>19</th>\n",
       "      <td>29818</td>\n",
       "      <td>Man discovers spider living under his skin during Bali vacation</td>\n",
       "      <td>1923</td>\n",
       "      <td>disagree</td>\n",
       "    </tr>\n",
       "    <tr>\n",
       "      <th>20</th>\n",
       "      <td>30087</td>\n",
       "      <td>'Spiderman' squished: Experts debunk claims</td>\n",
       "      <td>1923</td>\n",
       "      <td>agree</td>\n",
       "    </tr>\n",
       "    <tr>\n",
       "      <th>21</th>\n",
       "      <td>34272</td>\n",
       "      <td>Tropical spider burrows under man's skin, lives there for three days</td>\n",
       "      <td>1923</td>\n",
       "      <td>disagree</td>\n",
       "    </tr>\n",
       "    <tr>\n",
       "      <th>22</th>\n",
       "      <td>36258</td>\n",
       "      <td>Bunbury local discovered a spider had burrowed under his skin on Bali holiday</td>\n",
       "      <td>1923</td>\n",
       "      <td>disagree</td>\n",
       "    </tr>\n",
       "    <tr>\n",
       "      <th>23</th>\n",
       "      <td>39025</td>\n",
       "      <td>Spider Burrows Into Australian Man's Appendix Scar (VIDEO)</td>\n",
       "      <td>1923</td>\n",
       "      <td>disagree</td>\n",
       "    </tr>\n",
       "  </tbody>\n",
       "</table>\n",
       "</div>"
      ],
      "text/plain": [
       "    index  \\\n",
       "0       4   \n",
       "1    2287   \n",
       "2    3817   \n",
       "3    5685   \n",
       "4    6235   \n",
       "5    7799   \n",
       "6   11381   \n",
       "7   12660   \n",
       "8   12889   \n",
       "9   16508   \n",
       "10  18097   \n",
       "11  18590   \n",
       "12  20554   \n",
       "13  22029   \n",
       "14  22649   \n",
       "15  24352   \n",
       "16  24622   \n",
       "17  25026   \n",
       "18  28712   \n",
       "19  29818   \n",
       "20  30087   \n",
       "21  34272   \n",
       "22  36258   \n",
       "23  39025   \n",
       "\n",
       "                                                                                                                                                                      Headline  \\\n",
       "0                                                                                                              Spider burrowed through tourist's stomach and up into his chest   \n",
       "1                                                                                                   No, a spider (probably) didn't crawl through a man's body for several days   \n",
       "2                                                                               Tropical spider burrowed under man's skin through appendix scar and lived there for THREE DAYS   \n",
       "3                                                                                                                       Dylan Thomas Finds Tropical Spider Burrowed Under Skin   \n",
       "4                                                                                                                                                                    Bali Awry   \n",
       "5                                                                                                            Spider burrowed into appendix scar, crawled through WA man's body   \n",
       "6                                                                                              Expert casts doubt on Bunbury man Dylan Thomas’s burrowing stomach-spider story   \n",
       "7                                                           Web of confusion as scientists cast doubt on man's claims that a spider burrowed into his stomach through his SCAR   \n",
       "8                                                                                                                        Tropical spider burrows under man's skin through scar   \n",
       "9                                                                                                              The Guy Who Said a Spider Burrowed Under His Skin? Experts Say…   \n",
       "10                                                                                                                                  Are Rumors of the Apple Watch in Feb True?   \n",
       "11                                                                                              Strange mark turns out to be tropical spider burrowing under vacationer's skin   \n",
       "12  Tourist wakes to find strange red trail on his stomach - and discovers a spider has burrowed through his appendix scar and crawled UNDER his skin while on holiday in Bali   \n",
       "13                                                                                                     Tropical spider 'burrowed under man's skin through scar' - video report   \n",
       "14                                                                                                                             This Is a Truly Horrifying Story About a Spider   \n",
       "15                                                                                                                          Tropical spider burrowed under Bali tourist's skin   \n",
       "16                                                                                                          'Spiderman' squished: Perth experts debunk spider burrowing claims   \n",
       "17                                                                                                                       New Rumour Suggests Apple Watch to Launch in February   \n",
       "18                                                                                                                                    Bali spider burrows under Aussie’s chest   \n",
       "19                                                                                                             Man discovers spider living under his skin during Bali vacation   \n",
       "20                                                                                                                                 'Spiderman' squished: Experts debunk claims   \n",
       "21                                                                                                        Tropical spider burrows under man's skin, lives there for three days   \n",
       "22                                                                                               Bunbury local discovered a spider had burrowed under his skin on Bali holiday   \n",
       "23                                                                                                                  Spider Burrows Into Australian Man's Appendix Scar (VIDEO)   \n",
       "\n",
       "    Body ID    Stance  \n",
       "0      1923  disagree  \n",
       "1      1923     agree  \n",
       "2      1923  disagree  \n",
       "3      1923  disagree  \n",
       "4      1923   discuss  \n",
       "5      1923  disagree  \n",
       "6      1923     agree  \n",
       "7      1923     agree  \n",
       "8      1923  disagree  \n",
       "9      1923   discuss  \n",
       "10      722   discuss  \n",
       "11     1923  disagree  \n",
       "12     1923  disagree  \n",
       "13     1923   discuss  \n",
       "14     1923  disagree  \n",
       "15     1923  disagree  \n",
       "16     1923     agree  \n",
       "17      722   discuss  \n",
       "18     1923  disagree  \n",
       "19     1923  disagree  \n",
       "20     1923     agree  \n",
       "21     1923  disagree  \n",
       "22     1923  disagree  \n",
       "23     1923  disagree  "
      ]
     },
     "execution_count": 174,
     "metadata": {},
     "output_type": "execute_result"
    }
   ],
   "source": [
    "#taking a small subset to test the summarizer faster\n",
    "obervation_headlines = train_stances.loc[((train_stances[\"Body ID\"] == 1923 )\n",
    "                                        |(train_stances[\"Body ID\"] == 722))\n",
    "                                        & (train_stances[\"Stance\"] != 'unrelated')]\n",
    "obervation_headlines = obervation_headlines.head(100).reset_index()\n",
    "obervation_headlines"
   ]
  },
  {
   "cell_type": "markdown",
   "metadata": {},
   "source": [
    "### Subset dataset for code testing"
   ]
  },
  {
   "cell_type": "code",
   "execution_count": 175,
   "metadata": {},
   "outputs": [],
   "source": [
    "def SubsetDataset(data): \n",
    "    data = data.sample(frac=0.5, random_state = 1)\n",
    "    return data\n",
    "train_bodies = SubsetDataset(train_bodies)"
   ]
  },
  {
   "cell_type": "code",
   "execution_count": 176,
   "metadata": {},
   "outputs": [
    {
     "data": {
      "text/plain": [
       "(842, 2)"
      ]
     },
     "execution_count": 176,
     "metadata": {},
     "output_type": "execute_result"
    }
   ],
   "source": [
    "train_bodies.shape"
   ]
  },
  {
   "cell_type": "code",
   "execution_count": 13,
   "metadata": {},
   "outputs": [
    {
     "data": {
      "text/html": [
       "<div>\n",
       "<style scoped>\n",
       "    .dataframe tbody tr th:only-of-type {\n",
       "        vertical-align: middle;\n",
       "    }\n",
       "\n",
       "    .dataframe tbody tr th {\n",
       "        vertical-align: top;\n",
       "    }\n",
       "\n",
       "    .dataframe thead th {\n",
       "        text-align: right;\n",
       "    }\n",
       "</style>\n",
       "<table border=\"1\" class=\"dataframe\">\n",
       "  <thead>\n",
       "    <tr style=\"text-align: right;\">\n",
       "      <th></th>\n",
       "      <th>index</th>\n",
       "      <th>articleBody</th>\n",
       "      <th>Body ID</th>\n",
       "    </tr>\n",
       "  </thead>\n",
       "  <tbody>\n",
       "    <tr>\n",
       "      <th>0</th>\n",
       "      <td>12050</td>\n",
       "      <td>When Tim Cook finally announced the long-awaited Apple Watch on September 9, the company promised an “early 2015” release. Since then, it’s really been anybody’s guess as to when, exactly, that might end up being. A few new rumors, however, suggest that we’ll get the Apple Watch sometime in February…but it’s likely that it’ll be later than that.\\n\\nToday, a post on 9to5Mac points the way back to a report from Chinese site Feng, which itself cites “Taiwanese media” as saying that the Apple Watch is likely to hit sometime in February, though not without a fair bit of challenges to overcome. The reports say that the supply of sapphire crystal – which will compose the displays of the highest-end Apple Watch units – has led to some difficulties in manufacturing.\\n\\nHowever, it should be noted that if sapphire is the biggest problem facing the Apple Watch, then Apple’s in good shape. The software itself is still in development, and as the 9to5Mac post points out, the company has yet to release the WatchKit SDK for developers to start making all the cool apps that’ll run on the device.\\n\\nAnother report from Asia this week claims that production on the Apple Watch isn’t set to start at manufacturing partner Quanta until sometime in January – and with only a month of actual production, it seems doubtful that Apple would truly be ready to sell the Watch by February. And last week, an unnamed Apple insider was quoted as saying that the company would be “lucky to ship it by Valentine’s Day.” If that quote is true, then February seems like a tall order.\\n\\nThat said, March doesn’t seem too out of the question. Nor does April. In fact, considering that Motorola promised the Moto 360 smartwatch by “summer 2014,” and didn’t launch it until early September, it would seem that OEMs are pretty loose about their definitions for launch windows. “Early 2015” is simply anything before the very last day in June. And barring any major disasters, we should start to see Apple Watches on consumers’ wrists long before then.\\n\\nThe main question, though, is what cool stuff will the competition cook up between then and now…</td>\n",
       "      <td>722</td>\n",
       "    </tr>\n",
       "    <tr>\n",
       "      <th>1</th>\n",
       "      <td>35850</td>\n",
       "      <td>Fear not arachnophobes, the story of Bunbury's \"spiderman\" might not be all it seemed.\\n\\nPerth scientists have cast doubt over claims that a spider burrowed into a man's body during his first trip to Bali. The story went global on Thursday, generating hundreds of stories online.\\n\\nEarlier this month, Dylan Thomas headed to the holiday island and sought medical help after experiencing \"a really burning sensation like a searing feeling\" in his abdomen.\\n\\nDylan Thomas says he had a spider crawl underneath his skin.\\n\\nThomas said a specialist dermatologist was called in and later used tweezers to remove what was believed to be a \"tropical spider\".\\n\\nBut it seems we may have all been caught in a web... of misinformation.\\n\\nArachnologist Dr Volker Framenau said whatever the creature was, it was \"almost impossible\" for the culprit to have been a spider.\\n\\n\"If you look at a spider, the fangs, the mouth parts they have, they are not able to burrow. They can't get through skin,\" he said.\\n\\n\"We thought it may have been something like a mite, there are a few different parasitic mites out there, which can sometimes look a bit like a spider. I can't think of any spider which could do this to a person.\"\\n\\nDr Mark Harvey from the Western Australian Museum agreed and said he found the case \"bizarre\".\\n\\n\"I must confess I was amazed because I've never heard of a spider being able to survive under the skin of a human, or indeed any mammal,\" he said.\\n\\n\"Spiders need air to breathe, they have spiracles on the sides of their bodies where air comes into their system through a series of what we call book lungs. Being under the skin of somebody, I would have thought they wouldn't have enough air to survive.\\n\\n\"Even if it was a mite, I've never seen anything like this. Even if it was an insect, I've never heard of an insect crawling under the skin like this, so it really is a remarkable case.\"\\n\\nDr Harvey said spiders were widely feared in the community and often were the subject of urban legends.\\n\"We hear about people going on holidays and having spiders lay eggs under the skin. Then [the baby spiders] burst out when they return from their holiday in the tropics,\" he said.\\n\\n\"None of those are true, they're just made up stories.\\n\\n\"They're not actually able to dig through the skin, that's why this case is so unusual. Some can burrow into soil, but they have to remove soil particles one at a time if they want to do that.\"\\n\\nSomething which is true, according to Dr Harvey, is that certain arachnids do \"live on humans\".\\n\\n\"We all have mites living on our faces. They're follicle mites, but they're absolutely miniscule and you can't see them. We transmit them to our children when we have kids,\" he said.\\n\\n\"They live in the bases of hair follicles on our faces and in some of the pores in our skin. Those mites are so small, you can't see them, and they're not going to cause a blemish on the skin like this lad has on his stomach.\"\\n\\nDr Framenau said that much of the confusion could be eliminated by keeping or catching the creepy crawly offender, dead or alive, and enlisting the help of experts.\\n\\n\"It would be great if they collected it or took a photo of it,\" he said.\\n\\n\"If you have been bitten by something, the best thing you can do is collect it and submit it to a museum for identification before these things go viral.\"\\n\\nDylan Thomas has been contacted for comment.\\n\\n- WA Today</td>\n",
       "      <td>1923</td>\n",
       "    </tr>\n",
       "  </tbody>\n",
       "</table>\n",
       "</div>"
      ],
      "text/plain": [
       "   index  \\\n",
       "0  12050   \n",
       "1  35850   \n",
       "\n",
       "                                                                                                                                                                                                                                                                                                                                                                                                                                                                                                                                                                                                                                                                                                                                                                                                                                                                                                                                                                                                                                                                                                                                                                                                                                                                                                                                                                                                                                                                                                                                                                                                                                                                                                                                                                                                                                                                                                                                                                                                                                                                                                                                                                                                                                                                                                                                                                                                                                                                                                                                                                                                                                                                                                                                                                                                                                                                                                                                                                                                                                                                                                                                                                                                                                                                                                                                                                                                                                                                                                                                                                 articleBody  \\\n",
       "0                                                                                                                                                                                                                                                                                                                                                                                                                                                                                                                                                                                                                                                                                                                                                                                                                                                                                                                                                                                                                                                                                                                                                                                                                                                                                                                                                        When Tim Cook finally announced the long-awaited Apple Watch on September 9, the company promised an “early 2015” release. Since then, it’s really been anybody’s guess as to when, exactly, that might end up being. A few new rumors, however, suggest that we’ll get the Apple Watch sometime in February…but it’s likely that it’ll be later than that.\\n\\nToday, a post on 9to5Mac points the way back to a report from Chinese site Feng, which itself cites “Taiwanese media” as saying that the Apple Watch is likely to hit sometime in February, though not without a fair bit of challenges to overcome. The reports say that the supply of sapphire crystal – which will compose the displays of the highest-end Apple Watch units – has led to some difficulties in manufacturing.\\n\\nHowever, it should be noted that if sapphire is the biggest problem facing the Apple Watch, then Apple’s in good shape. The software itself is still in development, and as the 9to5Mac post points out, the company has yet to release the WatchKit SDK for developers to start making all the cool apps that’ll run on the device.\\n\\nAnother report from Asia this week claims that production on the Apple Watch isn’t set to start at manufacturing partner Quanta until sometime in January – and with only a month of actual production, it seems doubtful that Apple would truly be ready to sell the Watch by February. And last week, an unnamed Apple insider was quoted as saying that the company would be “lucky to ship it by Valentine’s Day.” If that quote is true, then February seems like a tall order.\\n\\nThat said, March doesn’t seem too out of the question. Nor does April. In fact, considering that Motorola promised the Moto 360 smartwatch by “summer 2014,” and didn’t launch it until early September, it would seem that OEMs are pretty loose about their definitions for launch windows. “Early 2015” is simply anything before the very last day in June. And barring any major disasters, we should start to see Apple Watches on consumers’ wrists long before then.\\n\\nThe main question, though, is what cool stuff will the competition cook up between then and now…   \n",
       "1  Fear not arachnophobes, the story of Bunbury's \"spiderman\" might not be all it seemed.\\n\\nPerth scientists have cast doubt over claims that a spider burrowed into a man's body during his first trip to Bali. The story went global on Thursday, generating hundreds of stories online.\\n\\nEarlier this month, Dylan Thomas headed to the holiday island and sought medical help after experiencing \"a really burning sensation like a searing feeling\" in his abdomen.\\n\\nDylan Thomas says he had a spider crawl underneath his skin.\\n\\nThomas said a specialist dermatologist was called in and later used tweezers to remove what was believed to be a \"tropical spider\".\\n\\nBut it seems we may have all been caught in a web... of misinformation.\\n\\nArachnologist Dr Volker Framenau said whatever the creature was, it was \"almost impossible\" for the culprit to have been a spider.\\n\\n\"If you look at a spider, the fangs, the mouth parts they have, they are not able to burrow. They can't get through skin,\" he said.\\n\\n\"We thought it may have been something like a mite, there are a few different parasitic mites out there, which can sometimes look a bit like a spider. I can't think of any spider which could do this to a person.\"\\n\\nDr Mark Harvey from the Western Australian Museum agreed and said he found the case \"bizarre\".\\n\\n\"I must confess I was amazed because I've never heard of a spider being able to survive under the skin of a human, or indeed any mammal,\" he said.\\n\\n\"Spiders need air to breathe, they have spiracles on the sides of their bodies where air comes into their system through a series of what we call book lungs. Being under the skin of somebody, I would have thought they wouldn't have enough air to survive.\\n\\n\"Even if it was a mite, I've never seen anything like this. Even if it was an insect, I've never heard of an insect crawling under the skin like this, so it really is a remarkable case.\"\\n\\nDr Harvey said spiders were widely feared in the community and often were the subject of urban legends.\\n\"We hear about people going on holidays and having spiders lay eggs under the skin. Then [the baby spiders] burst out when they return from their holiday in the tropics,\" he said.\\n\\n\"None of those are true, they're just made up stories.\\n\\n\"They're not actually able to dig through the skin, that's why this case is so unusual. Some can burrow into soil, but they have to remove soil particles one at a time if they want to do that.\"\\n\\nSomething which is true, according to Dr Harvey, is that certain arachnids do \"live on humans\".\\n\\n\"We all have mites living on our faces. They're follicle mites, but they're absolutely miniscule and you can't see them. We transmit them to our children when we have kids,\" he said.\\n\\n\"They live in the bases of hair follicles on our faces and in some of the pores in our skin. Those mites are so small, you can't see them, and they're not going to cause a blemish on the skin like this lad has on his stomach.\"\\n\\nDr Framenau said that much of the confusion could be eliminated by keeping or catching the creepy crawly offender, dead or alive, and enlisting the help of experts.\\n\\n\"It would be great if they collected it or took a photo of it,\" he said.\\n\\n\"If you have been bitten by something, the best thing you can do is collect it and submit it to a museum for identification before these things go viral.\"\\n\\nDylan Thomas has been contacted for comment.\\n\\n- WA Today   \n",
       "\n",
       "   Body ID  \n",
       "0      722  \n",
       "1     1923  "
      ]
     },
     "execution_count": 13,
     "metadata": {},
     "output_type": "execute_result"
    }
   ],
   "source": [
    "observation_body_headline = train_stances_bodies[(train_stances_bodies['Body ID'].isin([1923,722]))\n",
    "                                                 & (train_stances_bodies[\"Stance\"] != 'unrelated')]\n",
    "\n",
    "texts = observation_body_headline[['articleBody','Body ID']].drop_duplicates().reset_index()\n",
    "texts"
   ]
  },
  {
   "cell_type": "markdown",
   "metadata": {},
   "source": [
    "### Extract word embeddings with GloVe"
   ]
  },
  {
   "cell_type": "code",
   "execution_count": 153,
   "metadata": {},
   "outputs": [
    {
     "name": "stdout",
     "output_type": "stream",
     "text": [
      "Loaded 400000 word vectors.\n"
     ]
    }
   ],
   "source": [
    "embeddings_index = dict()\n",
    "f = open('./glove.6B.50d.txt')\n",
    "for line in f:\n",
    "    values = line.split()\n",
    "    word = values[0]\n",
    "    coefs = np.asarray(values[1:], dtype='float32')\n",
    "    embeddings_index[word] = coefs\n",
    "f.close()\n",
    "print('Loaded %s word vectors.' % len(embeddings_index))"
   ]
  },
  {
   "cell_type": "markdown",
   "metadata": {},
   "source": [
    "## Processing and Text Summarization "
   ]
  },
  {
   "cell_type": "markdown",
   "metadata": {},
   "source": [
    "Steps: <br>\n",
    "<br>\n",
    "1. Text Preprocessing: remove stopwords, punctuations, numbers, and special characters, and introduce lowercase <br>\n",
    "2. Vectorize sentences <br>\n",
    "3. Caluclate sentence similarity <br>\n",
    "4. Rank sentences with PageRank algorithm <br>\n",
    "5. Extract top N sentences as the summary <br>"
   ]
  },
  {
   "cell_type": "code",
   "execution_count": 154,
   "metadata": {},
   "outputs": [],
   "source": [
    "def getArticles(data):\n",
    "    articles = []\n",
    "    for s in data['articleBody']:\n",
    "        articles.append(sent_tokenize(s))\n",
    "        \n",
    "    return articles"
   ]
  },
  {
   "cell_type": "code",
   "execution_count": 160,
   "metadata": {},
   "outputs": [],
   "source": [
    "def ProcessArticle(article):\n",
    "    ''' This is the main article processing function which returns the summary of an article '''\n",
    "    \n",
    "    clean_sentences = getCleanSentences(article)\n",
    "    sentence_vectors = getSentenceVectors(clean_sentences)\n",
    "    \n",
    "    sentence_count = len(article)\n",
    "    sim_mat_shape = []\n",
    "    sim_mat_shape = np.zeros([sentence_count, sentence_count])    \n",
    "    sim_mat = getSimilartyMatrix(sim_mat_shape, sentence_vectors)\n",
    "    \n",
    "    sentence_scores = getSentenceScores(sim_mat)\n",
    "    ranked_sentences = getRankedSentences(article, sentence_scores)\n",
    "    \n",
    "    #printRankedSentences(ranked_sentences, 10)\n",
    "\n",
    "    return getSummary(ranked_sentences)\n",
    "\n",
    "    \n",
    "def getCleanSentences(article):\n",
    "    ''' This helper function strips special characters from string other than \n",
    "    lowercase and uppercase letters, then changes all to lowercase'''\n",
    "    \n",
    "    sentences = (pd.Series(article).str.replace(\"[^a-zA-Z]\", \" \").str.lower()).tolist()\n",
    "    clean_sentences = []\n",
    "    for sentence in sentences:\n",
    "        clean_sentences.append(removeStopwords(sentence))\n",
    "    return clean_sentences\n",
    "\n",
    "\n",
    "def removeStopwords(sentence):\n",
    "    # Convert text to lowercase and split to a list of words\n",
    "    tokens = word_tokenize(sentence)\n",
    "    # Remove stop words\n",
    "    tokens_no_stopwords = [t for t in tokens if t not in stop_words]\n",
    "    return \" \".join(tokens_no_stopwords)\n",
    "    #https://stackoverflow.com/questions/37605710/tokenize-a-paragraph-into-sentence-and-then-into-words-in-nltk\n",
    "\n",
    "\n",
    "def getSentenceVectors(clean_sentences):\n",
    "    ''' This helper function takes in cleaned sentences and for every sentence, \n",
    "    summing the word vectors on the sentence level, and then the vector values \n",
    "    of the sentence are divided by the number of words in the sentence  '''\n",
    "    \n",
    "    sentence_vectors = []\n",
    "    for s in clean_sentences:   \n",
    "        if (len(s) != 0) & (s.isspace() == False):\n",
    "            v = sum([embeddings_index.get(w, np.zeros((50,))) for w in s.split()])/(len(s.split())+0.001)\n",
    "        else:\n",
    "            v = np.zeros((50,))\n",
    "            \n",
    "        sentence_vectors.append(v)\n",
    "            \n",
    "    return sentence_vectors\n",
    "\n",
    "def getSimilartyMatrix(sim_mat, sentence_vectors):\n",
    "    ''' This helper function computes how similar a sentence is to every other \n",
    "    sentence in the dataset by comparing sentence vectors. Creates an empty \n",
    "    similarity matrix and populates it with cosine similarities of the sentences. '''\n",
    "    \n",
    "    count = len(sentence_vectors)\n",
    "    for i in range(count):\n",
    "        for j in range(count):\n",
    "            if i != j:\n",
    "                sim_mat[i][j] = cosine_similarity(sentence_vectors[i].reshape(1,50), sentence_vectors[j].reshape(1,50))[0,0]\n",
    "                # calculation from An Introduction to Text Summarization using the TextRank Algorithm \n",
    "                # https://www.analyticsvidhya.com/blog/2018/11/introduction-text-summarization-textrank-python/ \n",
    "    return sim_mat\n",
    "                \n",
    "def getSentenceScores(sim_mat):\n",
    "    ''' This helper function calls the pageRank algorithm which converts the \n",
    "    similarity matrix into a graph and generates scores for sentence ranking. '''\n",
    "    \n",
    "    return nx.pagerank(nx.from_numpy_array(sim_mat), max_iter=1000000, tol=1e-06)\n",
    "\n",
    "def getRankedSentences(article, sentence_scores):\n",
    "    ''' This helper function sorts the sentences by their scores in the descending order. '''\n",
    "    \n",
    "    return sorted(((sentence_scores[i],s) for i,s in enumerate(article)), reverse=True)\n",
    "\n",
    "def getSummary(sentences):\n",
    "    ''' This helper function receives the ranked sentences and appends the top 5. '''\n",
    "    \n",
    "    summary = []\n",
    "    for i,s in enumerate(sentences):\n",
    "        if i <= 5:\n",
    "            summary.append(s[1])\n",
    "    return summary\n",
    "    "
   ]
  },
  {
   "cell_type": "code",
   "execution_count": 161,
   "metadata": {
    "scrolled": true
   },
   "outputs": [],
   "source": [
    "def SummarizeTexts(data):\n",
    "    ''' This main function summarizes all individual articles and merges with the original dataset '''\n",
    "    \n",
    "    summaries = []\n",
    "    for article in getArticles(data):\n",
    "        summary = ProcessArticle(article)\n",
    "        summaries.append(\" \".join(sentence for sentence in summary))\n",
    "    text_summaries = pd.DataFrame(pd.Series(summaries), columns = ['articleSummary'])\n",
    "    #todo clean square brackets\n",
    "    data_including_summaries = data.merge(text_summaries, left_index=True, right_index=True)\n",
    "    return data_including_summaries\n",
    "    "
   ]
  },
  {
   "cell_type": "code",
   "execution_count": 162,
   "metadata": {},
   "outputs": [
    {
     "data": {
      "text/html": [
       "<div>\n",
       "<style scoped>\n",
       "    .dataframe tbody tr th:only-of-type {\n",
       "        vertical-align: middle;\n",
       "    }\n",
       "\n",
       "    .dataframe tbody tr th {\n",
       "        vertical-align: top;\n",
       "    }\n",
       "\n",
       "    .dataframe thead th {\n",
       "        text-align: right;\n",
       "    }\n",
       "</style>\n",
       "<table border=\"1\" class=\"dataframe\">\n",
       "  <thead>\n",
       "    <tr style=\"text-align: right;\">\n",
       "      <th></th>\n",
       "      <th>index</th>\n",
       "      <th>articleBody</th>\n",
       "      <th>Body ID</th>\n",
       "      <th>articleSummary</th>\n",
       "    </tr>\n",
       "  </thead>\n",
       "  <tbody>\n",
       "    <tr>\n",
       "      <th>0</th>\n",
       "      <td>12050</td>\n",
       "      <td>When Tim Cook finally announced the long-awaited Apple Watch on September 9, the company promised an “early 2015” release. Since then, it’s really been anybody’s guess as to when, exactly, that might end up being. A few new rumors, however, suggest that we’ll get the Apple Watch sometime in February…but it’s likely that it’ll be later than that.\\n\\nToday, a post on 9to5Mac points the way back to a report from Chinese site Feng, which itself cites “Taiwanese media” as saying that the Apple Watch is likely to hit sometime in February, though not without a fair bit of challenges to overcome. The reports say that the supply of sapphire crystal – which will compose the displays of the highest-end Apple Watch units – has led to some difficulties in manufacturing.\\n\\nHowever, it should be noted that if sapphire is the biggest problem facing the Apple Watch, then Apple’s in good shape. The software itself is still in development, and as the 9to5Mac post points out, the company has yet to release the WatchKit SDK for developers to start making all the cool apps that’ll run on the device.\\n\\nAnother report from Asia this week claims that production on the Apple Watch isn’t set to start at manufacturing partner Quanta until sometime in January – and with only a month of actual production, it seems doubtful that Apple would truly be ready to sell the Watch by February. And last week, an unnamed Apple insider was quoted as saying that the company would be “lucky to ship it by Valentine’s Day.” If that quote is true, then February seems like a tall order.\\n\\nThat said, March doesn’t seem too out of the question. Nor does April. In fact, considering that Motorola promised the Moto 360 smartwatch by “summer 2014,” and didn’t launch it until early September, it would seem that OEMs are pretty loose about their definitions for launch windows. “Early 2015” is simply anything before the very last day in June. And barring any major disasters, we should start to see Apple Watches on consumers’ wrists long before then.\\n\\nThe main question, though, is what cool stuff will the competition cook up between then and now…</td>\n",
       "      <td>722</td>\n",
       "      <td>Another report from Asia this week claims that production on the Apple Watch isn’t set to start at manufacturing partner Quanta until sometime in January – and with only a month of actual production, it seems doubtful that Apple would truly be ready to sell the Watch by February. A few new rumors, however, suggest that we’ll get the Apple Watch sometime in February…but it’s likely that it’ll be later than that. Today, a post on 9to5Mac points the way back to a report from Chinese site Feng, which itself cites “Taiwanese media” as saying that the Apple Watch is likely to hit sometime in February, though not without a fair bit of challenges to overcome. “Early 2015” is simply anything before the very last day in June. And last week, an unnamed Apple insider was quoted as saying that the company would be “lucky to ship it by Valentine’s Day.” If that quote is true, then February seems like a tall order. When Tim Cook finally announced the long-awaited Apple Watch on September 9, the company promised an “early 2015” release.</td>\n",
       "    </tr>\n",
       "    <tr>\n",
       "      <th>1</th>\n",
       "      <td>35850</td>\n",
       "      <td>Fear not arachnophobes, the story of Bunbury's \"spiderman\" might not be all it seemed.\\n\\nPerth scientists have cast doubt over claims that a spider burrowed into a man's body during his first trip to Bali. The story went global on Thursday, generating hundreds of stories online.\\n\\nEarlier this month, Dylan Thomas headed to the holiday island and sought medical help after experiencing \"a really burning sensation like a searing feeling\" in his abdomen.\\n\\nDylan Thomas says he had a spider crawl underneath his skin.\\n\\nThomas said a specialist dermatologist was called in and later used tweezers to remove what was believed to be a \"tropical spider\".\\n\\nBut it seems we may have all been caught in a web... of misinformation.\\n\\nArachnologist Dr Volker Framenau said whatever the creature was, it was \"almost impossible\" for the culprit to have been a spider.\\n\\n\"If you look at a spider, the fangs, the mouth parts they have, they are not able to burrow. They can't get through skin,\" he said.\\n\\n\"We thought it may have been something like a mite, there are a few different parasitic mites out there, which can sometimes look a bit like a spider. I can't think of any spider which could do this to a person.\"\\n\\nDr Mark Harvey from the Western Australian Museum agreed and said he found the case \"bizarre\".\\n\\n\"I must confess I was amazed because I've never heard of a spider being able to survive under the skin of a human, or indeed any mammal,\" he said.\\n\\n\"Spiders need air to breathe, they have spiracles on the sides of their bodies where air comes into their system through a series of what we call book lungs. Being under the skin of somebody, I would have thought they wouldn't have enough air to survive.\\n\\n\"Even if it was a mite, I've never seen anything like this. Even if it was an insect, I've never heard of an insect crawling under the skin like this, so it really is a remarkable case.\"\\n\\nDr Harvey said spiders were widely feared in the community and often were the subject of urban legends.\\n\"We hear about people going on holidays and having spiders lay eggs under the skin. Then [the baby spiders] burst out when they return from their holiday in the tropics,\" he said.\\n\\n\"None of those are true, they're just made up stories.\\n\\n\"They're not actually able to dig through the skin, that's why this case is so unusual. Some can burrow into soil, but they have to remove soil particles one at a time if they want to do that.\"\\n\\nSomething which is true, according to Dr Harvey, is that certain arachnids do \"live on humans\".\\n\\n\"We all have mites living on our faces. They're follicle mites, but they're absolutely miniscule and you can't see them. We transmit them to our children when we have kids,\" he said.\\n\\n\"They live in the bases of hair follicles on our faces and in some of the pores in our skin. Those mites are so small, you can't see them, and they're not going to cause a blemish on the skin like this lad has on his stomach.\"\\n\\nDr Framenau said that much of the confusion could be eliminated by keeping or catching the creepy crawly offender, dead or alive, and enlisting the help of experts.\\n\\n\"It would be great if they collected it or took a photo of it,\" he said.\\n\\n\"If you have been bitten by something, the best thing you can do is collect it and submit it to a museum for identification before these things go viral.\"\\n\\nDylan Thomas has been contacted for comment.\\n\\n- WA Today</td>\n",
       "      <td>1923</td>\n",
       "      <td>Even if it was an insect, I've never heard of an insect crawling under the skin like this, so it really is a remarkable case.\" \"I must confess I was amazed because I've never heard of a spider being able to survive under the skin of a human, or indeed any mammal,\" he said. \"They're not actually able to dig through the skin, that's why this case is so unusual. Being under the skin of somebody, I would have thought they wouldn't have enough air to survive. \"Even if it was a mite, I've never seen anything like this. I can't think of any spider which could do this to a person.\"</td>\n",
       "    </tr>\n",
       "  </tbody>\n",
       "</table>\n",
       "</div>"
      ],
      "text/plain": [
       "   index  \\\n",
       "0  12050   \n",
       "1  35850   \n",
       "\n",
       "                                                                                                                                                                                                                                                                                                                                                                                                                                                                                                                                                                                                                                                                                                                                                                                                                                                                                                                                                                                                                                                                                                                                                                                                                                                                                                                                                                                                                                                                                                                                                                                                                                                                                                                                                                                                                                                                                                                                                                                                                                                                                                                                                                                                                                                                                                                                                                                                                                                                                                                                                                                                                                                                                                                                                                                                                                                                                                                                                                                                                                                                                                                                                                                                                                                                                                                                                                                                                                                                                                                                                                 articleBody  \\\n",
       "0                                                                                                                                                                                                                                                                                                                                                                                                                                                                                                                                                                                                                                                                                                                                                                                                                                                                                                                                                                                                                                                                                                                                                                                                                                                                                                                                                        When Tim Cook finally announced the long-awaited Apple Watch on September 9, the company promised an “early 2015” release. Since then, it’s really been anybody’s guess as to when, exactly, that might end up being. A few new rumors, however, suggest that we’ll get the Apple Watch sometime in February…but it’s likely that it’ll be later than that.\\n\\nToday, a post on 9to5Mac points the way back to a report from Chinese site Feng, which itself cites “Taiwanese media” as saying that the Apple Watch is likely to hit sometime in February, though not without a fair bit of challenges to overcome. The reports say that the supply of sapphire crystal – which will compose the displays of the highest-end Apple Watch units – has led to some difficulties in manufacturing.\\n\\nHowever, it should be noted that if sapphire is the biggest problem facing the Apple Watch, then Apple’s in good shape. The software itself is still in development, and as the 9to5Mac post points out, the company has yet to release the WatchKit SDK for developers to start making all the cool apps that’ll run on the device.\\n\\nAnother report from Asia this week claims that production on the Apple Watch isn’t set to start at manufacturing partner Quanta until sometime in January – and with only a month of actual production, it seems doubtful that Apple would truly be ready to sell the Watch by February. And last week, an unnamed Apple insider was quoted as saying that the company would be “lucky to ship it by Valentine’s Day.” If that quote is true, then February seems like a tall order.\\n\\nThat said, March doesn’t seem too out of the question. Nor does April. In fact, considering that Motorola promised the Moto 360 smartwatch by “summer 2014,” and didn’t launch it until early September, it would seem that OEMs are pretty loose about their definitions for launch windows. “Early 2015” is simply anything before the very last day in June. And barring any major disasters, we should start to see Apple Watches on consumers’ wrists long before then.\\n\\nThe main question, though, is what cool stuff will the competition cook up between then and now…   \n",
       "1  Fear not arachnophobes, the story of Bunbury's \"spiderman\" might not be all it seemed.\\n\\nPerth scientists have cast doubt over claims that a spider burrowed into a man's body during his first trip to Bali. The story went global on Thursday, generating hundreds of stories online.\\n\\nEarlier this month, Dylan Thomas headed to the holiday island and sought medical help after experiencing \"a really burning sensation like a searing feeling\" in his abdomen.\\n\\nDylan Thomas says he had a spider crawl underneath his skin.\\n\\nThomas said a specialist dermatologist was called in and later used tweezers to remove what was believed to be a \"tropical spider\".\\n\\nBut it seems we may have all been caught in a web... of misinformation.\\n\\nArachnologist Dr Volker Framenau said whatever the creature was, it was \"almost impossible\" for the culprit to have been a spider.\\n\\n\"If you look at a spider, the fangs, the mouth parts they have, they are not able to burrow. They can't get through skin,\" he said.\\n\\n\"We thought it may have been something like a mite, there are a few different parasitic mites out there, which can sometimes look a bit like a spider. I can't think of any spider which could do this to a person.\"\\n\\nDr Mark Harvey from the Western Australian Museum agreed and said he found the case \"bizarre\".\\n\\n\"I must confess I was amazed because I've never heard of a spider being able to survive under the skin of a human, or indeed any mammal,\" he said.\\n\\n\"Spiders need air to breathe, they have spiracles on the sides of their bodies where air comes into their system through a series of what we call book lungs. Being under the skin of somebody, I would have thought they wouldn't have enough air to survive.\\n\\n\"Even if it was a mite, I've never seen anything like this. Even if it was an insect, I've never heard of an insect crawling under the skin like this, so it really is a remarkable case.\"\\n\\nDr Harvey said spiders were widely feared in the community and often were the subject of urban legends.\\n\"We hear about people going on holidays and having spiders lay eggs under the skin. Then [the baby spiders] burst out when they return from their holiday in the tropics,\" he said.\\n\\n\"None of those are true, they're just made up stories.\\n\\n\"They're not actually able to dig through the skin, that's why this case is so unusual. Some can burrow into soil, but they have to remove soil particles one at a time if they want to do that.\"\\n\\nSomething which is true, according to Dr Harvey, is that certain arachnids do \"live on humans\".\\n\\n\"We all have mites living on our faces. They're follicle mites, but they're absolutely miniscule and you can't see them. We transmit them to our children when we have kids,\" he said.\\n\\n\"They live in the bases of hair follicles on our faces and in some of the pores in our skin. Those mites are so small, you can't see them, and they're not going to cause a blemish on the skin like this lad has on his stomach.\"\\n\\nDr Framenau said that much of the confusion could be eliminated by keeping or catching the creepy crawly offender, dead or alive, and enlisting the help of experts.\\n\\n\"It would be great if they collected it or took a photo of it,\" he said.\\n\\n\"If you have been bitten by something, the best thing you can do is collect it and submit it to a museum for identification before these things go viral.\"\\n\\nDylan Thomas has been contacted for comment.\\n\\n- WA Today   \n",
       "\n",
       "   Body ID  \\\n",
       "0      722   \n",
       "1     1923   \n",
       "\n",
       "                                                                                                                                                                                                                                                                                                                                                                                                                                                                                                                                                                                                                                                                                                                                                                                                                                                                                                                                                                                                                                                                 articleSummary  \n",
       "0  Another report from Asia this week claims that production on the Apple Watch isn’t set to start at manufacturing partner Quanta until sometime in January – and with only a month of actual production, it seems doubtful that Apple would truly be ready to sell the Watch by February. A few new rumors, however, suggest that we’ll get the Apple Watch sometime in February…but it’s likely that it’ll be later than that. Today, a post on 9to5Mac points the way back to a report from Chinese site Feng, which itself cites “Taiwanese media” as saying that the Apple Watch is likely to hit sometime in February, though not without a fair bit of challenges to overcome. “Early 2015” is simply anything before the very last day in June. And last week, an unnamed Apple insider was quoted as saying that the company would be “lucky to ship it by Valentine’s Day.” If that quote is true, then February seems like a tall order. When Tim Cook finally announced the long-awaited Apple Watch on September 9, the company promised an “early 2015” release.  \n",
       "1                                                                                                                                                                                                                                                                                                                                                                                                                                                                          Even if it was an insect, I've never heard of an insect crawling under the skin like this, so it really is a remarkable case.\" \"I must confess I was amazed because I've never heard of a spider being able to survive under the skin of a human, or indeed any mammal,\" he said. \"They're not actually able to dig through the skin, that's why this case is so unusual. Being under the skin of somebody, I would have thought they wouldn't have enough air to survive. \"Even if it was a mite, I've never seen anything like this. I can't think of any spider which could do this to a person.\"  "
      ]
     },
     "execution_count": 162,
     "metadata": {},
     "output_type": "execute_result"
    }
   ],
   "source": [
    "test_run = SummarizeTexts(texts)\n",
    "test_run"
   ]
  },
  {
   "cell_type": "markdown",
   "metadata": {},
   "source": [
    "## Prepare Datasets to be used in Part 2. LSTM"
   ]
  },
  {
   "cell_type": "markdown",
   "metadata": {},
   "source": [
    "#### Generate summaries for training bodies"
   ]
  },
  {
   "cell_type": "code",
   "execution_count": 177,
   "metadata": {},
   "outputs": [],
   "source": [
    "def storeSummaries(summarize_articles, merge_original):\n",
    "    summaries = SummarizeTexts(summarize_articles)\n",
    "    #merge the training datasets for bodies summarized and default dataset\n",
    "    data_incl_summaries = pd.merge(merge_original,\n",
    "                        summaries[['Body ID','articleSummary']],\n",
    "                        on='Body ID', \n",
    "                        how='left')\n",
    "    return data_incl_summaries"
   ]
  },
  {
   "cell_type": "code",
   "execution_count": 178,
   "metadata": {},
   "outputs": [
    {
     "name": "stderr",
     "output_type": "stream",
     "text": [
      "/Library/Frameworks/Python.framework/Versions/3.8/lib/python3.8/site-packages/numpy/core/_methods.py:38: RuntimeWarning: overflow encountered in reduce\n",
      "  return umr_sum(a, axis, dtype, out, keepdims, initial, where)\n",
      "/Library/Frameworks/Python.framework/Versions/3.8/lib/python3.8/site-packages/networkx/algorithms/link_analysis/pagerank_alg.py:495: RuntimeWarning: overflow encountered in subtract\n",
      "  err = np.absolute(x - xlast).sum()\n"
     ]
    },
    {
     "ename": "PowerIterationFailedConvergence",
     "evalue": "(PowerIterationFailedConvergence(...), 'power iteration failed to converge within 1000000 iterations')",
     "output_type": "error",
     "traceback": [
      "\u001b[0;31m---------------------------------------------------------------------------\u001b[0m",
      "\u001b[0;31mPowerIterationFailedConvergence\u001b[0m           Traceback (most recent call last)",
      "\u001b[0;32m<ipython-input-178-6f2082ed0fdf>\u001b[0m in \u001b[0;36m<module>\u001b[0;34m\u001b[0m\n\u001b[0;32m----> 1\u001b[0;31m \u001b[0mtraining_dataset_summaries\u001b[0m \u001b[0;34m=\u001b[0m \u001b[0mstoreSummaries\u001b[0m\u001b[0;34m(\u001b[0m\u001b[0mtrain_bodies\u001b[0m\u001b[0;34m,\u001b[0m \u001b[0mtrain_stances_bodies\u001b[0m\u001b[0;34m)\u001b[0m\u001b[0;34m\u001b[0m\u001b[0;34m\u001b[0m\u001b[0m\n\u001b[0m\u001b[1;32m      2\u001b[0m \u001b[0mtraining_dataset_summaries\u001b[0m\u001b[0;34m.\u001b[0m\u001b[0mhead\u001b[0m\u001b[0;34m(\u001b[0m\u001b[0;34m)\u001b[0m\u001b[0;34m\u001b[0m\u001b[0;34m\u001b[0m\u001b[0m\n",
      "\u001b[0;32m<ipython-input-177-23c543467a5b>\u001b[0m in \u001b[0;36mstoreSummaries\u001b[0;34m(summarize_articles, merge_original)\u001b[0m\n\u001b[1;32m      1\u001b[0m \u001b[0;32mdef\u001b[0m \u001b[0mstoreSummaries\u001b[0m\u001b[0;34m(\u001b[0m\u001b[0msummarize_articles\u001b[0m\u001b[0;34m,\u001b[0m \u001b[0mmerge_original\u001b[0m\u001b[0;34m)\u001b[0m\u001b[0;34m:\u001b[0m\u001b[0;34m\u001b[0m\u001b[0;34m\u001b[0m\u001b[0m\n\u001b[0;32m----> 2\u001b[0;31m     \u001b[0msummaries\u001b[0m \u001b[0;34m=\u001b[0m \u001b[0mSummarizeTexts\u001b[0m\u001b[0;34m(\u001b[0m\u001b[0msummarize_articles\u001b[0m\u001b[0;34m)\u001b[0m\u001b[0;34m\u001b[0m\u001b[0;34m\u001b[0m\u001b[0m\n\u001b[0m\u001b[1;32m      3\u001b[0m     \u001b[0;31m#merge the training datasets for bodies summarized and default dataset\u001b[0m\u001b[0;34m\u001b[0m\u001b[0;34m\u001b[0m\u001b[0;34m\u001b[0m\u001b[0m\n\u001b[1;32m      4\u001b[0m     data_incl_summaries = pd.merge(merge_original,\n\u001b[1;32m      5\u001b[0m                         \u001b[0msummaries\u001b[0m\u001b[0;34m[\u001b[0m\u001b[0;34m[\u001b[0m\u001b[0;34m'Body ID'\u001b[0m\u001b[0;34m,\u001b[0m\u001b[0;34m'articleSummary'\u001b[0m\u001b[0;34m]\u001b[0m\u001b[0;34m]\u001b[0m\u001b[0;34m,\u001b[0m\u001b[0;34m\u001b[0m\u001b[0;34m\u001b[0m\u001b[0m\n",
      "\u001b[0;32m<ipython-input-161-04cc5443aa03>\u001b[0m in \u001b[0;36mSummarizeTexts\u001b[0;34m(data)\u001b[0m\n\u001b[1;32m      4\u001b[0m     \u001b[0msummaries\u001b[0m \u001b[0;34m=\u001b[0m \u001b[0;34m[\u001b[0m\u001b[0;34m]\u001b[0m\u001b[0;34m\u001b[0m\u001b[0;34m\u001b[0m\u001b[0m\n\u001b[1;32m      5\u001b[0m     \u001b[0;32mfor\u001b[0m \u001b[0marticle\u001b[0m \u001b[0;32min\u001b[0m \u001b[0mgetArticles\u001b[0m\u001b[0;34m(\u001b[0m\u001b[0mdata\u001b[0m\u001b[0;34m)\u001b[0m\u001b[0;34m:\u001b[0m\u001b[0;34m\u001b[0m\u001b[0;34m\u001b[0m\u001b[0m\n\u001b[0;32m----> 6\u001b[0;31m         \u001b[0msummary\u001b[0m \u001b[0;34m=\u001b[0m \u001b[0mProcessArticle\u001b[0m\u001b[0;34m(\u001b[0m\u001b[0marticle\u001b[0m\u001b[0;34m)\u001b[0m\u001b[0;34m\u001b[0m\u001b[0;34m\u001b[0m\u001b[0m\n\u001b[0m\u001b[1;32m      7\u001b[0m         \u001b[0msummaries\u001b[0m\u001b[0;34m.\u001b[0m\u001b[0mappend\u001b[0m\u001b[0;34m(\u001b[0m\u001b[0;34m\" \"\u001b[0m\u001b[0;34m.\u001b[0m\u001b[0mjoin\u001b[0m\u001b[0;34m(\u001b[0m\u001b[0msentence\u001b[0m \u001b[0;32mfor\u001b[0m \u001b[0msentence\u001b[0m \u001b[0;32min\u001b[0m \u001b[0msummary\u001b[0m\u001b[0;34m)\u001b[0m\u001b[0;34m)\u001b[0m\u001b[0;34m\u001b[0m\u001b[0;34m\u001b[0m\u001b[0m\n\u001b[1;32m      8\u001b[0m     \u001b[0mtext_summaries\u001b[0m \u001b[0;34m=\u001b[0m \u001b[0mpd\u001b[0m\u001b[0;34m.\u001b[0m\u001b[0mDataFrame\u001b[0m\u001b[0;34m(\u001b[0m\u001b[0mpd\u001b[0m\u001b[0;34m.\u001b[0m\u001b[0mSeries\u001b[0m\u001b[0;34m(\u001b[0m\u001b[0msummaries\u001b[0m\u001b[0;34m)\u001b[0m\u001b[0;34m,\u001b[0m \u001b[0mcolumns\u001b[0m \u001b[0;34m=\u001b[0m \u001b[0;34m[\u001b[0m\u001b[0;34m'articleSummary'\u001b[0m\u001b[0;34m]\u001b[0m\u001b[0;34m)\u001b[0m\u001b[0;34m\u001b[0m\u001b[0;34m\u001b[0m\u001b[0m\n",
      "\u001b[0;32m<ipython-input-160-a8b2255ec061>\u001b[0m in \u001b[0;36mProcessArticle\u001b[0;34m(article)\u001b[0m\n\u001b[1;32m     10\u001b[0m     \u001b[0msim_mat\u001b[0m \u001b[0;34m=\u001b[0m \u001b[0mgetSimilartyMatrix\u001b[0m\u001b[0;34m(\u001b[0m\u001b[0msim_mat_shape\u001b[0m\u001b[0;34m,\u001b[0m \u001b[0msentence_vectors\u001b[0m\u001b[0;34m)\u001b[0m\u001b[0;34m\u001b[0m\u001b[0;34m\u001b[0m\u001b[0m\n\u001b[1;32m     11\u001b[0m \u001b[0;34m\u001b[0m\u001b[0m\n\u001b[0;32m---> 12\u001b[0;31m     \u001b[0msentence_scores\u001b[0m \u001b[0;34m=\u001b[0m \u001b[0mgetSentenceScores\u001b[0m\u001b[0;34m(\u001b[0m\u001b[0msim_mat\u001b[0m\u001b[0;34m)\u001b[0m\u001b[0;34m\u001b[0m\u001b[0;34m\u001b[0m\u001b[0m\n\u001b[0m\u001b[1;32m     13\u001b[0m     \u001b[0mranked_sentences\u001b[0m \u001b[0;34m=\u001b[0m \u001b[0mgetRankedSentences\u001b[0m\u001b[0;34m(\u001b[0m\u001b[0marticle\u001b[0m\u001b[0;34m,\u001b[0m \u001b[0msentence_scores\u001b[0m\u001b[0;34m)\u001b[0m\u001b[0;34m\u001b[0m\u001b[0;34m\u001b[0m\u001b[0m\n\u001b[1;32m     14\u001b[0m \u001b[0;34m\u001b[0m\u001b[0m\n",
      "\u001b[0;32m<ipython-input-160-a8b2255ec061>\u001b[0m in \u001b[0;36mgetSentenceScores\u001b[0;34m(sim_mat)\u001b[0m\n\u001b[1;32m     72\u001b[0m     similarity matrix into a graph and generates scores for sentence ranking. '''\n\u001b[1;32m     73\u001b[0m \u001b[0;34m\u001b[0m\u001b[0m\n\u001b[0;32m---> 74\u001b[0;31m     \u001b[0;32mreturn\u001b[0m \u001b[0mnx\u001b[0m\u001b[0;34m.\u001b[0m\u001b[0mpagerank\u001b[0m\u001b[0;34m(\u001b[0m\u001b[0mnx\u001b[0m\u001b[0;34m.\u001b[0m\u001b[0mfrom_numpy_array\u001b[0m\u001b[0;34m(\u001b[0m\u001b[0msim_mat\u001b[0m\u001b[0;34m)\u001b[0m\u001b[0;34m,\u001b[0m \u001b[0mmax_iter\u001b[0m\u001b[0;34m=\u001b[0m\u001b[0;36m1000000\u001b[0m\u001b[0;34m,\u001b[0m \u001b[0mtol\u001b[0m\u001b[0;34m=\u001b[0m\u001b[0;36m1e-06\u001b[0m\u001b[0;34m)\u001b[0m\u001b[0;34m\u001b[0m\u001b[0;34m\u001b[0m\u001b[0m\n\u001b[0m\u001b[1;32m     75\u001b[0m \u001b[0;34m\u001b[0m\u001b[0m\n\u001b[1;32m     76\u001b[0m \u001b[0;32mdef\u001b[0m \u001b[0mgetRankedSentences\u001b[0m\u001b[0;34m(\u001b[0m\u001b[0marticle\u001b[0m\u001b[0;34m,\u001b[0m \u001b[0msentence_scores\u001b[0m\u001b[0;34m)\u001b[0m\u001b[0;34m:\u001b[0m\u001b[0;34m\u001b[0m\u001b[0;34m\u001b[0m\u001b[0m\n",
      "\u001b[0;32m/Library/Frameworks/Python.framework/Versions/3.8/lib/python3.8/site-packages/networkx/algorithms/link_analysis/pagerank_alg.py\u001b[0m in \u001b[0;36mpagerank\u001b[0;34m(G, alpha, personalization, max_iter, tol, nstart, weight, dangling)\u001b[0m\n\u001b[1;32m    105\u001b[0m \u001b[0;34m\u001b[0m\u001b[0m\n\u001b[1;32m    106\u001b[0m     \"\"\"\n\u001b[0;32m--> 107\u001b[0;31m     return pagerank_scipy(\n\u001b[0m\u001b[1;32m    108\u001b[0m         \u001b[0mG\u001b[0m\u001b[0;34m,\u001b[0m \u001b[0malpha\u001b[0m\u001b[0;34m,\u001b[0m \u001b[0mpersonalization\u001b[0m\u001b[0;34m,\u001b[0m \u001b[0mmax_iter\u001b[0m\u001b[0;34m,\u001b[0m \u001b[0mtol\u001b[0m\u001b[0;34m,\u001b[0m \u001b[0mnstart\u001b[0m\u001b[0;34m,\u001b[0m \u001b[0mweight\u001b[0m\u001b[0;34m,\u001b[0m \u001b[0mdangling\u001b[0m\u001b[0;34m\u001b[0m\u001b[0;34m\u001b[0m\u001b[0m\n\u001b[1;32m    109\u001b[0m     )\n",
      "\u001b[0;32m/Library/Frameworks/Python.framework/Versions/3.8/lib/python3.8/site-packages/networkx/algorithms/link_analysis/pagerank_alg.py\u001b[0m in \u001b[0;36mpagerank_scipy\u001b[0;34m(G, alpha, personalization, max_iter, tol, nstart, weight, dangling)\u001b[0m\n\u001b[1;32m    496\u001b[0m         \u001b[0;32mif\u001b[0m \u001b[0merr\u001b[0m \u001b[0;34m<\u001b[0m \u001b[0mN\u001b[0m \u001b[0;34m*\u001b[0m \u001b[0mtol\u001b[0m\u001b[0;34m:\u001b[0m\u001b[0;34m\u001b[0m\u001b[0;34m\u001b[0m\u001b[0m\n\u001b[1;32m    497\u001b[0m             \u001b[0;32mreturn\u001b[0m \u001b[0mdict\u001b[0m\u001b[0;34m(\u001b[0m\u001b[0mzip\u001b[0m\u001b[0;34m(\u001b[0m\u001b[0mnodelist\u001b[0m\u001b[0;34m,\u001b[0m \u001b[0mmap\u001b[0m\u001b[0;34m(\u001b[0m\u001b[0mfloat\u001b[0m\u001b[0;34m,\u001b[0m \u001b[0mx\u001b[0m\u001b[0;34m)\u001b[0m\u001b[0;34m)\u001b[0m\u001b[0;34m)\u001b[0m\u001b[0;34m\u001b[0m\u001b[0;34m\u001b[0m\u001b[0m\n\u001b[0;32m--> 498\u001b[0;31m     \u001b[0;32mraise\u001b[0m \u001b[0mnx\u001b[0m\u001b[0;34m.\u001b[0m\u001b[0mPowerIterationFailedConvergence\u001b[0m\u001b[0;34m(\u001b[0m\u001b[0mmax_iter\u001b[0m\u001b[0;34m)\u001b[0m\u001b[0;34m\u001b[0m\u001b[0;34m\u001b[0m\u001b[0m\n\u001b[0m",
      "\u001b[0;31mPowerIterationFailedConvergence\u001b[0m: (PowerIterationFailedConvergence(...), 'power iteration failed to converge within 1000000 iterations')"
     ]
    }
   ],
   "source": [
    "training_dataset_summaries = storeSummaries(train_bodies, train_stances_bodies)\n",
    "training_dataset_summaries.head()"
   ]
  },
  {
   "cell_type": "code",
   "execution_count": null,
   "metadata": {},
   "outputs": [],
   "source": [
    "testing_dataset_summaries = storeSummaries(test_bodies, test_stances_bodies)\n",
    "testing_dataset_summaries.head()"
   ]
  },
  {
   "cell_type": "code",
   "execution_count": null,
   "metadata": {},
   "outputs": [],
   "source": [
    "training_dataset_summaries = SummarizeTexts(train_bodies)"
   ]
  },
  {
   "cell_type": "code",
   "execution_count": null,
   "metadata": {},
   "outputs": [],
   "source": [
    "#merge the training datasets for bodies summarized and default dataset\n",
    "train_stances_bodies_summaries = pd.merge(train_stances_bodies,\n",
    "                                          training_dataset_summaries[['Body ID','articleSummary']],\n",
    "                                          on='Body ID', \n",
    "                                          how='left')"
   ]
  }
 ],
 "metadata": {
  "kernelspec": {
   "display_name": "Python 3",
   "language": "python",
   "name": "python3"
  },
  "language_info": {
   "codemirror_mode": {
    "name": "ipython",
    "version": 3
   },
   "file_extension": ".py",
   "mimetype": "text/x-python",
   "name": "python",
   "nbconvert_exporter": "python",
   "pygments_lexer": "ipython3",
   "version": "3.8.0"
  }
 },
 "nbformat": 4,
 "nbformat_minor": 4
}
